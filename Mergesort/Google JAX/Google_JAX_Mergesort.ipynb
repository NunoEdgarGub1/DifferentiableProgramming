{
  "nbformat": 4,
  "nbformat_minor": 0,
  "metadata": {
    "colab": {
      "name": "Google JAX Mergesort",
      "provenance": [],
      "collapsed_sections": []
    },
    "kernelspec": {
      "name": "python3",
      "display_name": "Python 3"
    }
  },
  "cells": [
    {
      "cell_type": "code",
      "metadata": {
        "id": "Jf7AsVEqtEQd",
        "colab_type": "code",
        "outputId": "91fb1fb7-eb6f-4c91-ddaf-c7bb518773c1",
        "colab": {
          "base_uri": "https://localhost:8080/",
          "height": 70
        }
      },
      "source": [
        "!pip install -q --upgrade jax jaxlib"
      ],
      "execution_count": 1,
      "outputs": [
        {
          "output_type": "stream",
          "text": [
            "\u001b[K     |████████████████████████████████| 225kB 2.7MB/s \n",
            "\u001b[K     |████████████████████████████████| 24.9MB 1.5MB/s \n",
            "\u001b[?25h  Building wheel for jax (setup.py) ... \u001b[?25l\u001b[?25hdone\n"
          ],
          "name": "stdout"
        }
      ]
    },
    {
      "cell_type": "code",
      "metadata": {
        "id": "iVtYWxR6tYtC",
        "colab_type": "code",
        "colab": {}
      },
      "source": [
        "from __future__ import print_function, division\n",
        "import jax.numpy as np\n",
        "from jax import grad, jit, vmap,jacfwd, jacrev\n",
        "from jax import random"
      ],
      "execution_count": 0,
      "outputs": []
    },
    {
      "cell_type": "code",
      "metadata": {
        "id": "H4UYNoDVth5U",
        "colab_type": "code",
        "colab": {}
      },
      "source": [
        "def merge(left,right):\n",
        "  result=[]\n",
        "  \n",
        "  left_idx,right_idx=0,0\n",
        "  \n",
        "  while left_idx<len(left) and right_idx< len(right):\n",
        "    if left[left_idx]<=right[right_idx]:\n",
        "      result.append(left[left_idx])\n",
        "      left_idx+=1\n",
        "    else:\n",
        "      result.append(right[right_idx])\n",
        "      right_idx+=1\n",
        "      \n",
        "  if len(left)>left_idx:\n",
        "    result.extend(left[left_idx:])\n",
        "  if len(right)>right_idx:\n",
        "    result.extend(right[right_idx:])\n",
        "  return result"
      ],
      "execution_count": 0,
      "outputs": []
    },
    {
      "cell_type": "code",
      "metadata": {
        "id": "NPFrgwIptp4J",
        "colab_type": "code",
        "colab": {}
      },
      "source": [
        "def mergesort(arr):\n",
        "  if len(arr)<=1:\n",
        "    return arr\n",
        "  middle=len(arr)//2\n",
        "  \n",
        "  left=arr[0:middle]\n",
        "  right=arr[middle:]  \n",
        " \n",
        "  left=mergesort(left)\n",
        "  right=mergesort(right)\n",
        "  \n",
        "  res=merge(left,right)\n",
        "  return res"
      ],
      "execution_count": 0,
      "outputs": []
    },
    {
      "cell_type": "code",
      "metadata": {
        "id": "dqxqntvNtwtn",
        "colab_type": "code",
        "colab": {
          "base_uri": "https://localhost:8080/",
          "height": 52
        },
        "outputId": "92626dbe-a2fc-4fda-ea06-d553c09480cb"
      },
      "source": [
        "key = random.PRNGKey(42)\n",
        "test_array=random.normal(key,(5,))\n",
        "test_array"
      ],
      "execution_count": 16,
      "outputs": [
        {
          "output_type": "execute_result",
          "data": {
            "text/plain": [
              "DeviceArray([ 0.61226517,  1.12258828, -0.85441345, -0.8127327 ,\n",
              "             -0.89040512], dtype=float32)"
            ]
          },
          "metadata": {
            "tags": []
          },
          "execution_count": 16
        }
      ]
    },
    {
      "cell_type": "code",
      "metadata": {
        "id": "tEz-Jm9kt5Hv",
        "colab_type": "code",
        "outputId": "0ffa37e5-c774-4f19-e59d-216a74aa3097",
        "colab": {
          "base_uri": "https://localhost:8080/",
          "height": 105
        }
      },
      "source": [
        "jacfwd(mergesort)(test_array)"
      ],
      "execution_count": 17,
      "outputs": [
        {
          "output_type": "execute_result",
          "data": {
            "text/plain": [
              "[DeviceArray([0., 0., 0., 0., 1.], dtype=float32),\n",
              " DeviceArray([0., 0., 1., 0., 0.], dtype=float32),\n",
              " DeviceArray([0., 0., 0., 1., 0.], dtype=float32),\n",
              " DeviceArray([1., 0., 0., 0., 0.], dtype=float32),\n",
              " DeviceArray([0., 1., 0., 0., 0.], dtype=float32)]"
            ]
          },
          "metadata": {
            "tags": []
          },
          "execution_count": 17
        }
      ]
    },
    {
      "cell_type": "code",
      "metadata": {
        "id": "pGfCWw8PuKZm",
        "colab_type": "code",
        "outputId": "a833de6a-7b96-4f50-bb08-db53c58862c5",
        "colab": {
          "base_uri": "https://localhost:8080/",
          "height": 105
        }
      },
      "source": [
        "jacrev(mergesort)(test_array)"
      ],
      "execution_count": 18,
      "outputs": [
        {
          "output_type": "execute_result",
          "data": {
            "text/plain": [
              "[DeviceArray([0., 0., 0., 0., 1.], dtype=float32),\n",
              " DeviceArray([0., 0., 1., 0., 0.], dtype=float32),\n",
              " DeviceArray([0., 0., 0., 1., 0.], dtype=float32),\n",
              " DeviceArray([1., 0., 0., 0., 0.], dtype=float32),\n",
              " DeviceArray([0., 1., 0., 0., 0.], dtype=float32)]"
            ]
          },
          "metadata": {
            "tags": []
          },
          "execution_count": 18
        }
      ]
    }
  ]
}