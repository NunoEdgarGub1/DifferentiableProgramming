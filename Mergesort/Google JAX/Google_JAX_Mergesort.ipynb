{
  "nbformat": 4,
  "nbformat_minor": 0,
  "metadata": {
    "colab": {
      "name": "Google JAX Mergesort",
      "provenance": [],
      "include_colab_link": true
    },
    "kernelspec": {
      "name": "python3",
      "display_name": "Python 3"
    }
  },
  "cells": [
    {
      "cell_type": "markdown",
      "metadata": {
        "id": "view-in-github",
        "colab_type": "text"
      },
      "source": [
        "<a href=\"https://colab.research.google.com/github/corba777/DifferentiableProgramming/blob/master/Mergesort/Google%20JAX/Google_JAX_Mergesort.ipynb\" target=\"_parent\"><img src=\"https://colab.research.google.com/assets/colab-badge.svg\" alt=\"Open In Colab\"/></a>"
      ]
    },
    {
      "cell_type": "code",
      "metadata": {
        "id": "Jf7AsVEqtEQd",
        "colab_type": "code",
        "colab": {
          "base_uri": "https://localhost:8080/",
          "height": 70
        },
        "outputId": "24e3b290-c92c-45ef-945c-f92393974bfe"
      },
      "source": [
        "!pip install -q --upgrade jax jaxlib"
      ],
      "execution_count": 1,
      "outputs": [
        {
          "output_type": "stream",
          "text": [
            "\u001b[K     |████████████████████████████████| 225kB 9.8MB/s \n",
            "\u001b[K     |████████████████████████████████| 24.9MB 1.8MB/s \n",
            "\u001b[?25h  Building wheel for jax (setup.py) ... \u001b[?25l\u001b[?25hdone\n"
          ],
          "name": "stdout"
        }
      ]
    },
    {
      "cell_type": "code",
      "metadata": {
        "id": "iVtYWxR6tYtC",
        "colab_type": "code",
        "colab": {}
      },
      "source": [
        "from __future__ import print_function, division\n",
        "import jax.numpy as np\n",
        "from jax import grad, jit, vmap,jacfwd, jacrev\n",
        "from jax import random"
      ],
      "execution_count": 0,
      "outputs": []
    },
    {
      "cell_type": "code",
      "metadata": {
        "id": "H4UYNoDVth5U",
        "colab_type": "code",
        "colab": {}
      },
      "source": [
        "def merge(left,right):\n",
        "  result=[]\n",
        "  \n",
        "  left_idx,right_idx=0,0\n",
        "  \n",
        "  while left_idx<len(left) and right_idx< len(right):\n",
        "    if left[left_idx]<=right[right_idx]:\n",
        "      result.append(left[left_idx])\n",
        "      left_idx+=1\n",
        "    else:\n",
        "      result.append(right[right_idx])\n",
        "      right_idx+=1\n",
        "      \n",
        "  if len(left)>left_idx:\n",
        "    result.extend(left[left_idx:])\n",
        "  if len(right)>right_idx:\n",
        "    result.extend(right[right_idx:])\n",
        "  return result"
      ],
      "execution_count": 0,
      "outputs": []
    },
    {
      "cell_type": "code",
      "metadata": {
        "id": "NPFrgwIptp4J",
        "colab_type": "code",
        "colab": {}
      },
      "source": [
        "def mergesort(arr):\n",
        "  if len(arr)<=1:\n",
        "    return arr\n",
        "  middle=len(arr)//2\n",
        "  \n",
        "  left=arr[0:middle]\n",
        "  right=arr[middle:]  \n",
        " \n",
        "  left=mergesort(left)\n",
        "  right=mergesort(right)\n",
        "  \n",
        "  res=merge(left,right)\n",
        "  return res"
      ],
      "execution_count": 0,
      "outputs": []
    },
    {
      "cell_type": "code",
      "metadata": {
        "id": "dqxqntvNtwtn",
        "colab_type": "code",
        "colab": {}
      },
      "source": [
        "test_array=[5.0,4.0,3.0,2.0,1.0]"
      ],
      "execution_count": 0,
      "outputs": []
    },
    {
      "cell_type": "code",
      "metadata": {
        "id": "tEz-Jm9kt5Hv",
        "colab_type": "code",
        "colab": {
          "base_uri": "https://localhost:8080/",
          "height": 105
        },
        "outputId": "0ac5d396-a5a8-45d4-bcfe-e90534d81e1b"
      },
      "source": [
        "jacfwd(mergesort)(test_array)"
      ],
      "execution_count": 10,
      "outputs": [
        {
          "output_type": "execute_result",
          "data": {
            "text/plain": [
              "[[array(0.), array(0.), array(0.), array(0.), array(1.)],\n",
              " [array(0.), array(0.), array(0.), array(1.), array(0.)],\n",
              " [array(0.), array(0.), array(1.), array(0.), array(0.)],\n",
              " [array(0.), array(1.), array(0.), array(0.), array(0.)],\n",
              " [array(1.), array(0.), array(0.), array(0.), array(0.)]]"
            ]
          },
          "metadata": {
            "tags": []
          },
          "execution_count": 10
        }
      ]
    },
    {
      "cell_type": "code",
      "metadata": {
        "id": "pGfCWw8PuKZm",
        "colab_type": "code",
        "colab": {
          "base_uri": "https://localhost:8080/",
          "height": 105
        },
        "outputId": "969d83ed-d0fd-481d-c4b7-8530f99b17a6"
      },
      "source": [
        "jacrev(mergesort)(test_array)"
      ],
      "execution_count": 11,
      "outputs": [
        {
          "output_type": "execute_result",
          "data": {
            "text/plain": [
              "[[array(0.), array(0.), array(0.), array(0.), array(1.)],\n",
              " [array(0.), array(0.), array(0.), array(1.), array(0.)],\n",
              " [array(0.), array(0.), array(1.), array(0.), array(0.)],\n",
              " [array(0.), array(1.), array(0.), array(0.), array(0.)],\n",
              " [array(1.), array(0.), array(0.), array(0.), array(0.)]]"
            ]
          },
          "metadata": {
            "tags": []
          },
          "execution_count": 11
        }
      ]
    }
  ]
}