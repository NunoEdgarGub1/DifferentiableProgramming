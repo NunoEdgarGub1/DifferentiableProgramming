{
  "cells": [
    {
      "metadata": {
        "trusted": true
      },
      "cell_type": "code",
      "source": "#load \"Paket.fsx\"",
      "execution_count": 2,
      "outputs": []
    },
    {
      "metadata": {
        "trusted": true
      },
      "cell_type": "code",
      "source": "let wc = new System.Net.WebClient()\nwc.DownloadFile(\n    \"https://github.com/DiffSharp/DiffSharp/releases/download/v0.7.7/DiffSharp-v0.7.7-Linux64.zip\", \n    \"/home/nbuser/IfSharp/bin/packages/DiffSharp-v0.7.7-Linux64.zip\")",
      "execution_count": 3,
      "outputs": []
    },
    {
      "metadata": {
        "trusted": true
      },
      "cell_type": "code",
      "source": "open System.Diagnostics",
      "execution_count": 4,
      "outputs": []
    },
    {
      "metadata": {
        "trusted": true
      },
      "cell_type": "code",
      "source": "let ps = \n    ProcessStartInfo(\n        FileName=\"unzip\",\n        Arguments=\"/home/nbuser/IfSharp/bin/packages/DiffSharp-v0.7.7-Linux64.zip -d /home/nbuser/IfSharp/bin/packages/DiffSharp-v0.7.7\",\n        RedirectStandardOutput=true,UseShellExecute=false)",
      "execution_count": 5,
      "outputs": []
    },
    {
      "metadata": {
        "trusted": true
      },
      "cell_type": "code",
      "source": "let p = Process.Start(ps)\np.StandardOutput.ReadToEnd()",
      "execution_count": 6,
      "outputs": [
        {
          "output_type": "execute_result",
          "execution_count": 6,
          "data": {
            "text/plain": "\"Archive:  /home/nbuser/IfSharp/bin/packages/DiffSharp-v0.7.7-Linux64.zip\n\""
          },
          "metadata": {}
        }
      ]
    },
    {
      "metadata": {
        "trusted": true
      },
      "cell_type": "code",
      "source": "#I \"/home/nbuser/IfSharp/bin/packages/DiffSharp-v0.7.7/\"\n#r \"DiffSharp\"\n#r \"FSharp.Quotations.Evaluator\"",
      "execution_count": 7,
      "outputs": []
    },
    {
      "metadata": {
        "trusted": true
      },
      "cell_type": "code",
      "source": "let openblasFromNuget = @\"/home/nbuser/IfSharp/bin/packages/OpenBLAS/lib/native/bin/x64/\"\nlet diffSharpReleaseFromZip = @\"/home/nbuser/IfSharp/bin/packages/DiffSharp-v0.7.7/\"",
      "execution_count": 8,
      "outputs": []
    },
    {
      "metadata": {
        "trusted": true
      },
      "cell_type": "code",
      "source": "open System\nEnvironment.SetEnvironmentVariable(\"LD_LIBRARY_PATH\", Environment.GetEnvironmentVariable(\"LD_LIBRARY_PATH\") + \":\" + diffSharpReleaseFromZip)",
      "execution_count": 9,
      "outputs": []
    },
    {
      "metadata": {
        "trusted": true
      },
      "cell_type": "code",
      "source": "Environment.GetEnvironmentVariable(\"LD_LIBRARY_PATH\")",
      "execution_count": 10,
      "outputs": [
        {
          "output_type": "execute_result",
          "execution_count": 10,
          "data": {
            "text/plain": "\"/usr/lib64/MRO-3.3.0/R-3.3.0/lib/R/lib::/home/nbuser/IfSharp/bin/packages/DiffSharp-v0.7.7/\""
          },
          "metadata": {}
        }
      ]
    },
    {
      "metadata": {
        "trusted": true
      },
      "cell_type": "code",
      "source": "open DiffSharp.AD.Float64",
      "execution_count": 11,
      "outputs": []
    },
    {
      "metadata": {
        "trusted": true
      },
      "cell_type": "code",
      "source": "let split (arr : DV) =\n    let n = arr.Length\n    arr.[0..n/2-1], arr.[n/2..n-1] \n\nlet rec merge (l : DV) (r : DV) =\n    let n = l.Length + r.Length\n    let res = Array.zeroCreate<D> n\n    let mutable i, j = 0, 0\n    for k = 0 to n-1 do\n        if i >= l.Length   then res.[k] <- r.[j]; j <- j + 1\n        elif j >= r.Length then res.[k] <- l.[i]; i <- i + 1\n        elif l.[i] < r.[j] then res.[k] <- l.[i]; i <- i + 1\n        else res.[k] <- r.[j]; j <- j + 1\n    toDV res\n        \nlet rec mergeSort (arr :DV) =\n    if arr.Length<2 then arr else       \n    let (x, y) = split arr\n    merge (mergeSort x) (mergeSort y) ",
      "execution_count": 14,
      "outputs": []
    },
    {
      "metadata": {
        "trusted": true
      },
      "cell_type": "code",
      "source": "let rnd=System.Random()\nlet test= Array.init 5 (fun _-> rnd.NextDouble()) |> toDV",
      "execution_count": 15,
      "outputs": []
    },
    {
      "metadata": {
        "trusted": true
      },
      "cell_type": "code",
      "source": "mergeSort test",
      "execution_count": 16,
      "outputs": [
        {
          "output_type": "execute_result",
          "execution_count": 16,
          "data": {
            "text/plain": "DV [|0.01764531434; 0.0457408936; 0.1075394187; 0.1250395524; 0.5259685705|]"
          },
          "metadata": {}
        }
      ]
    },
    {
      "metadata": {
        "trusted": true
      },
      "cell_type": "code",
      "source": "let jacobianmergesort=jacobian mergeSort\njacobianmergesort test",
      "execution_count": 17,
      "outputs": [
        {
          "output_type": "execute_result",
          "execution_count": 17,
          "data": {
            "text/plain": "DM [[0.0; 1.0; 0.0; 0.0; 0.0]\n    [0.0; 0.0; 0.0; 1.0; 0.0]\n    [1.0; 0.0; 0.0; 0.0; 0.0]\n    [0.0; 0.0; 0.0; 0.0; 1.0]\n    [0.0; 0.0; 1.0; 0.0; 0.0]]"
          },
          "metadata": {}
        }
      ]
    },
    {
      "metadata": {
        "trusted": true
      },
      "cell_type": "code",
      "source": "",
      "execution_count": null,
      "outputs": []
    }
  ],
  "metadata": {
    "kernelspec": {
      "name": "ifsharp",
      "display_name": "F#",
      "language": "fsharp"
    },
    "language_info": {
      "mimetype": "text/x-fsharp",
      "nbconvert_exporter": "",
      "name": "fsharp",
      "pygments_lexer": "",
      "version": "4.3.1.0",
      "file_extension": ".fs",
      "codemirror_mode": ""
    },
    "language": "fsharp"
  },
  "nbformat": 4,
  "nbformat_minor": 2
}