{
  "cells": [
    {
      "metadata": {
        "trusted": true
      },
      "cell_type": "code",
      "source": "#load \"Paket.fsx\"",
      "execution_count": 1,
      "outputs": []
    },
    {
      "metadata": {
        "trusted": true
      },
      "cell_type": "code",
      "source": "let wc = new System.Net.WebClient()\nwc.DownloadFile(\n    \"https://github.com/DiffSharp/DiffSharp/releases/download/v0.7.7/DiffSharp-v0.7.7-Linux64.zip\", \n    \"/home/nbuser/IfSharp/bin/packages/DiffSharp-v0.7.7-Linux64.zip\")",
      "execution_count": 2,
      "outputs": []
    },
    {
      "metadata": {
        "trusted": true
      },
      "cell_type": "code",
      "source": "open System.Diagnostics",
      "execution_count": 3,
      "outputs": []
    },
    {
      "metadata": {
        "trusted": true
      },
      "cell_type": "code",
      "source": "let ps = \n    ProcessStartInfo(\n        FileName=\"unzip\",\n        Arguments=\"/home/nbuser/IfSharp/bin/packages/DiffSharp-v0.7.7-Linux64.zip -d /home/nbuser/IfSharp/bin/packages/DiffSharp-v0.7.7\",\n        RedirectStandardOutput=true,UseShellExecute=false)",
      "execution_count": 4,
      "outputs": []
    },
    {
      "metadata": {
        "trusted": true
      },
      "cell_type": "code",
      "source": "let p = Process.Start(ps)\np.StandardOutput.ReadToEnd()",
      "execution_count": 5,
      "outputs": [
        {
          "output_type": "execute_result",
          "execution_count": 5,
          "data": {
            "text/plain": "\"Archive:  /home/nbuser/IfSharp/bin/packages/DiffSharp-v0.7.7-Linux64.zip\n  inflating: /home/nbuser/IfSharp/bin/packages/DiffSharp-v0.7.7/DiffSharp.dll  \n  inflating: /home/nbuser/IfSharp/bin/packages/DiffSharp-v0.7.7/DiffSharp.XML  \n  inflating: /home/nbuser/IfSharp/bin/packages/DiffSharp-v0.7.7/FSharp.Core.dll  \n  inflating: /home/nbuser/IfSharp/bin/packages/DiffSharp-v0.7.7/FSharp.Quotations.Evaluator.dll  \n  inflating: /home/nbuser/IfSharp/bin/packages/DiffSharp-v0.7.7/libopenblas.so  \n  inflating: /home/nbuser/IfSharp/bin/packages/DiffSharp-v0.7.7/README.md  \n\""
          },
          "metadata": {}
        }
      ]
    },
    {
      "metadata": {
        "trusted": true
      },
      "cell_type": "code",
      "source": "#I \"/home/nbuser/IfSharp/bin/packages/DiffSharp-v0.7.7/\"\n#r \"DiffSharp\"\n#r \"FSharp.Quotations.Evaluator\"",
      "execution_count": 6,
      "outputs": []
    },
    {
      "metadata": {
        "trusted": true
      },
      "cell_type": "code",
      "source": "let openblasFromNuget = @\"/home/nbuser/IfSharp/bin/packages/OpenBLAS/lib/native/bin/x64/\"\nlet diffSharpReleaseFromZip = @\"/home/nbuser/IfSharp/bin/packages/DiffSharp-v0.7.7/\"",
      "execution_count": 7,
      "outputs": []
    },
    {
      "metadata": {
        "trusted": true
      },
      "cell_type": "code",
      "source": "open System\nEnvironment.SetEnvironmentVariable(\"LD_LIBRARY_PATH\", Environment.GetEnvironmentVariable(\"LD_LIBRARY_PATH\") + \":\" + diffSharpReleaseFromZip)",
      "execution_count": 8,
      "outputs": []
    },
    {
      "metadata": {
        "trusted": true
      },
      "cell_type": "code",
      "source": "Environment.GetEnvironmentVariable(\"LD_LIBRARY_PATH\")",
      "execution_count": 9,
      "outputs": [
        {
          "output_type": "execute_result",
          "execution_count": 9,
          "data": {
            "text/plain": "\"/usr/lib64/MRO-3.3.0/R-3.3.0/lib/R/lib::/home/nbuser/IfSharp/bin/packages/DiffSharp-v0.7.7/\""
          },
          "metadata": {}
        }
      ]
    },
    {
      "metadata": {
        "trusted": true
      },
      "cell_type": "code",
      "source": "open DiffSharp.AD.Float64",
      "execution_count": 10,
      "outputs": []
    },
    {
      "metadata": {
        "trusted": true
      },
      "cell_type": "code",
      "source": "let mergesort (arr :DV)=     \n    let split (arr : D list) =\n        let n = arr.Length\n        arr.[0..n/2-1], arr.[n/2..n-1] \n\n    let rec merge l r =   \n        match l, r with\n            | a :: ls, b :: rs ->\n                if a > b\n                then b :: merge l rs\n                else a :: merge ls r\n            | [], r -> r\n            | l, [] -> l \n            \n    let rec mergeSort (arr :D list) =\n        if arr.Length<2 then arr else       \n        let (x, y) = split arr\n        merge (mergeSort x) (mergeSort y) \n        \n    let lst= arr.ToArray() |> Array.toList\n    mergeSort lst |> List.toArray |> toDV",
      "execution_count": 59,
      "outputs": []
    },
    {
      "metadata": {
        "trusted": true
      },
      "cell_type": "code",
      "source": "let rnd=System.Random()\nlet test= Array.init 5 (fun _-> rnd.NextDouble()) |> toDV",
      "execution_count": 60,
      "outputs": []
    },
    {
      "metadata": {
        "trusted": true
      },
      "cell_type": "code",
      "source": "mergesort test",
      "execution_count": 61,
      "outputs": [
        {
          "output_type": "execute_result",
          "execution_count": 61,
          "data": {
            "text/plain": "DV [|0.01329147956; 0.1320147026; 0.7009875526; 0.8122346009; 0.9483945975|]"
          },
          "metadata": {}
        }
      ]
    },
    {
      "metadata": {
        "trusted": true
      },
      "cell_type": "code",
      "source": "let jacobianmergesort=jacobian mergesort\njacobianmergesort test",
      "execution_count": 62,
      "outputs": [
        {
          "output_type": "execute_result",
          "execution_count": 62,
          "data": {
            "text/plain": "DM [[0.0; 0.0; 0.0; 1.0; 0.0]\n    [0.0; 0.0; 0.0; 0.0; 1.0]\n    [0.0; 0.0; 1.0; 0.0; 0.0]\n    [1.0; 0.0; 0.0; 0.0; 0.0]\n    [0.0; 1.0; 0.0; 0.0; 0.0]]"
          },
          "metadata": {}
        }
      ]
    },
    {
      "metadata": {
        "trusted": true
      },
      "cell_type": "code",
      "source": "",
      "execution_count": null,
      "outputs": []
    }
  ],
  "metadata": {
    "kernelspec": {
      "name": "ifsharp",
      "display_name": "F#",
      "language": "fsharp"
    },
    "language_info": {
      "mimetype": "text/x-fsharp",
      "nbconvert_exporter": "",
      "name": "fsharp",
      "pygments_lexer": "",
      "version": "4.3.1.0",
      "file_extension": ".fs",
      "codemirror_mode": ""
    },
    "language": "fsharp"
  },
  "nbformat": 4,
  "nbformat_minor": 2
}